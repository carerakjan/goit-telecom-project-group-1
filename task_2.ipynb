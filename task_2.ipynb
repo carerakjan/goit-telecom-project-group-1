{
 "cells": [
  {
   "cell_type": "code",
   "execution_count": null,
   "metadata": {},
   "outputs": [],
   "source": [
    "import pandas as pd \n",
    "from sklearn.preprocessing import OneHotEncoder, StandardScaler"
   ]
  },
  {
   "cell_type": "code",
   "execution_count": null,
   "metadata": {},
   "outputs": [],
   "source": [
    "df = pd.read_csv('data.csv')\n",
    "one_hot_encoder = OneHotEncoder(sparse=False)\n",
    "category_encoded = one_hot_encoder.fit_transform(df[['Category']])\n",
    "\n",
    "df_encoded = pd.DataFrame(category_encoded, columns=one_hot_encoder.get_feature_names_out(['Category']))\n",
    "df = pd.concat([df, df_encoded], axis=1)\n",
    "df.drop('Category', axis=1, inplace=True)"
   ]
  },
  {
   "cell_type": "code",
   "execution_count": null,
   "metadata": {},
   "outputs": [],
   "source": [
    "scaler = StandardScaler()\n",
    "df[['Value1', 'Value2']] = scaler.fit_transform(df[['Value1', 'Value2']])\n",
    "df.to_csv('new_data.csv', index=False)\n",
    "print(df.head())"
   ]
  }
 ],
 "metadata": {
  "language_info": {
   "name": "python"
  }
 },
 "nbformat": 4,
 "nbformat_minor": 2
}
