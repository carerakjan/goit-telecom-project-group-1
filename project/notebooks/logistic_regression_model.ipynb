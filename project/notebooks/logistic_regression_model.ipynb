{
 "cells": [
  {
   "cell_type": "code",
   "execution_count": 1,
   "id": "initial_id",
   "metadata": {
    "ExecuteTime": {
     "end_time": "2024-08-28T02:01:08.831917Z",
     "start_time": "2024-08-28T01:59:43.258658Z"
    },
    "collapsed": true
   },
   "outputs": [
    {
     "name": "stdout",
     "output_type": "stream",
     "text": [
      "Fitting 5 folds for each of 80 candidates, totalling 400 fits\n",
      "Best Model Parameters:  {'C': 0.01, 'max_iter': 100, 'penalty': 'l1', 'solver': 'saga'}\n",
      "Результати з завантаженою моделлю:\n",
      "              precision    recall  f1-score   support\n",
      "\n",
      "         0.0       0.89      0.81      0.85      6315\n",
      "         1.0       0.86      0.92      0.89      8064\n",
      "\n",
      "    accuracy                           0.87     14379\n",
      "   macro avg       0.88      0.87      0.87     14379\n",
      "weighted avg       0.88      0.87      0.87     14379\n",
      "\n",
      "Test Accuracy (Loaded Model):  0.8746088045065721\n",
      "Test Recall (Loaded Model):  0.9234871031746031\n",
      "Test Precision (Loaded Model):  0.8626201783852658\n",
      "Test F1 Score (Loaded Model):  0.8920165299155537\n"
     ]
    },
    {
     "data": {
      "image/png": "[encoded data removed]",
      "text/plain": [
       "<Figure size 800x600 with 1 Axes>"
      ]
     },
     "metadata": {},
     "output_type": "display_data"
    }
   ],
   "source": [
    "from sklearn.model_selection import GridSearchCV\n",
    "from sklearn.linear_model import LogisticRegression\n",
    "from sklearn.metrics import accuracy_score, recall_score, precision_score, f1_score\n",
    "from sklearn.preprocessing import StandardScaler\n",
    "from sklearn.model_selection import train_test_split\n",
    "import pandas as pd\n",
    "import pickle\n",
    "from sklearn.metrics import classification_report\n",
    "from sklearn.metrics import confusion_matrix\n",
    "import seaborn as sns\n",
    "import matplotlib.pyplot as plt\n",
    "\n",
    "\n",
    "file_path = '../data/internet_service_churn_scaled.csv'\n",
    "data = pd.read_csv(file_path)\n",
    "\n",
    "# Попередня обробка даних\n",
    "X = data.drop(columns=['churn'])\n",
    "y = data['churn']\n",
    "\n",
    "# Розділення на тренувальний та тестовий набори\n",
    "X_train, X_test, y_train, y_test = train_test_split(X, y, test_size=0.2, random_state=42)\n",
    "\n",
    "# Масштабування тільки числових даних\n",
    "# scaler = StandardScaler()\n",
    "# float_columns = ['subscription_age', 'reamining_contract', 'download_avg', 'upload_avg']\n",
    "# X_train[float_columns] = scaler.fit_transform(X_train[float_columns])\n",
    "# X_test[float_columns] = scaler.transform(X_test[float_columns])\n",
    "\n",
    "# Модель логістичної регресії\n",
    "logistic_model = LogisticRegression(random_state=42)\n",
    "\n",
    "# Параметрична сітка для логістичної регресії\n",
    "param_grid = {\n",
    "    'C': [0.01, 0.1, 1, 10, 100],\n",
    "    'penalty': ['l1','l2'],\n",
    "    'solver': ['liblinear', 'saga'],\n",
    "    'max_iter': [100, 200, 500, 1000]\n",
    "}\n",
    "\n",
    "# Налаштування GridSearchCV з крос-валідацією\n",
    "grid_search = GridSearchCV(estimator=logistic_model, param_grid=param_grid, cv=5, scoring='recall', verbose=1)\n",
    "\n",
    "# Навчання моделі з кращими параметрами\n",
    "grid_search.fit(X_train, y_train)\n",
    "\n",
    "# Отримання найкращої моделі\n",
    "best_model = grid_search.best_estimator_\n",
    "\n",
    "# Збереження найкращої моделі\n",
    "model_save_path = '../models/logistic_regression_model.pkl'\n",
    "with open(model_save_path, 'wb') as file:\n",
    "    pickle.dump(best_model, file)\n",
    "\n",
    "# Передбачення на тестовому наборі даних\n",
    "y_pred = best_model.predict(X_test)\n",
    "\n",
    "# Оцінка моделі на тестових даних з найкращими параметрами\n",
    "print(\"Best Model Parameters: \", grid_search.best_params_)\n",
    "\n",
    "# Завантаження найкращої моделі\n",
    "with open(model_save_path, 'rb') as file:\n",
    "    loaded_model = pickle.load(file)\n",
    "\n",
    "# Передбачення на тестовому наборі даних з завантаженою моделлю\n",
    "y_pred_loaded = loaded_model.predict(X_test)\n",
    "\n",
    "# Перевірка, що завантажена модель працює правильно\n",
    "print(\"Результати з завантаженою моделлю:\")\n",
    "print(classification_report(y_test, y_pred_loaded))\n",
    "\n",
    "# Оцінка моделі на тестових даних з найкращими параметрами (для завантаженої моделі)\n",
    "print(\"Test Accuracy (Loaded Model): \", accuracy_score(y_test, y_pred_loaded))\n",
    "print(\"Test Recall (Loaded Model): \", recall_score(y_test, y_pred_loaded))\n",
    "print(\"Test Precision (Loaded Model): \", precision_score(y_test, y_pred_loaded))\n",
    "print(\"Test F1 Score (Loaded Model): \", f1_score(y_test, y_pred_loaded))\n",
    "\n",
    "# Обчислення матриці плутанини\n",
    "conf_matrix = confusion_matrix(y_test, y_pred_loaded)\n",
    "\n",
    "# Візуалізація матриці плутанини\n",
    "plt.figure(figsize=(8, 6))\n",
    "sns.heatmap(conf_matrix, annot=True, fmt='d', cmap='Blues', cbar=False)\n",
    "plt.xlabel('Predicted')\n",
    "plt.ylabel('Actual')\n",
    "plt.title('Confusion Matrix')\n",
    "plt.show()"
   ]
  }
 ],
 "metadata": {
  "kernelspec": {
   "display_name": "Python 3",
   "language": "python",
   "name": "python3"
  },
  "language_info": {
   "codemirror_mode": {
    "name": "ipython",
    "version": 3
   },
   "file_extension": ".py",
   "mimetype": "text/x-python",
   "name": "python",
   "nbconvert_exporter": "python",
   "pygments_lexer": "ipython3",
   "version": "3.12.0"
  }
 },
 "nbformat": 4,
 "nbformat_minor": 5
}
