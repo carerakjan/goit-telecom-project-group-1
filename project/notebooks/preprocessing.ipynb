{
 "cells": [
  {
   "cell_type": "code",
   "execution_count": 9,
   "metadata": {},
   "outputs": [],
   "source": [
    "import pandas as pd \n",
    "from sklearn.preprocessing import StandardScaler"
   ]
  },
  {
   "cell_type": "code",
   "execution_count": 10,
   "metadata": {},
   "outputs": [],
   "source": [
    "df = pd.read_csv('../data/internet_service_churn_updated.csv')"
   ]
  },
  {
   "cell_type": "markdown",
   "metadata": {},
   "source": [
    "Нормалізація числових змінних"
   ]
  },
  {
   "cell_type": "code",
   "execution_count": 11,
   "metadata": {},
   "outputs": [
    {
     "name": "stdout",
     "output_type": "stream",
     "text": [
      "   is_tv_subscriber  is_movie_package_subscriber  subscription_age  \\\n",
      "0          0.476083                    -0.708273          4.684387   \n",
      "1         -2.100476                    -0.708273          2.844086   \n",
      "2          0.476083                    -0.708273          3.184517   \n",
      "3         -2.100476                    -0.708273          2.178025   \n",
      "4         -2.100476                    -0.708273          1.941204   \n",
      "\n",
      "   reamining_contract  download_avg  upload_avg  download_over_limit  churn  \n",
      "0           -0.537157     -0.556575   -0.192699            -0.208788    0.0  \n",
      "1           -0.747446     -0.689055   -0.426943            -0.208788    1.0  \n",
      "2           -0.747446     -0.472986   -0.335282            -0.208788    1.0  \n",
      "3           -0.747446     -0.689055   -0.426943            -0.208788    1.0  \n",
      "4           -0.747446     -0.689055   -0.426943            -0.208788    1.0  \n"
     ]
    }
   ],
   "source": [
    "numerical_features = ['is_tv_subscriber', 'is_movie_package_subscriber','download_over_limit','subscription_age','reamining_contract','download_avg','upload_avg']\n",
    "scaler = StandardScaler()\n",
    "df[numerical_features] = scaler.fit_transform(df[numerical_features])\n",
    "df.to_csv('../data/internet_service_churn_scaled.csv', index=False)\n",
    "print(df.head())"
   ]
  }
 ],
 "metadata": {
  "kernelspec": {
   "display_name": "Python 3",
   "language": "python",
   "name": "python3"
  },
  "language_info": {
   "codemirror_mode": {
    "name": "ipython",
    "version": 3
   },
   "file_extension": ".py",
   "mimetype": "text/x-python",
   "name": "python",
   "nbconvert_exporter": "python",
   "pygments_lexer": "ipython3",
   "version": "3.12.0"
  }
 },
 "nbformat": 4,
 "nbformat_minor": 2
}
